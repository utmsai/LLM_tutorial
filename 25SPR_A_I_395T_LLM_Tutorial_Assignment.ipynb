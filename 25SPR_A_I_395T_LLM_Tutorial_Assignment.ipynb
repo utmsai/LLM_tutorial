{
  "cells": [
    {
      "cell_type": "markdown",
      "metadata": {},
      "source": [
        "# LLM Tutorial"
      ]
    },
    {
      "cell_type": "markdown",
      "metadata": {},
      "source": [
        "## Topic: Characteristics of Good Cardiovascular Health"
      ]
    },
    {
      "cell_type": "markdown",
      "metadata": {},
      "source": [
        "1. What can we learn about how to develop and maintain good cardiovascular health? \n",
        "    - We will use a variety of methods with a LLM and a synthetically generated dataset.\n",
        "    - As indicated at the end of this presentation, there are ways that we can fact-check what we learn and improve our learning."
      ]
    },
    {
      "cell_type": "code",
      "execution_count": 1,
      "metadata": {},
      "outputs": [],
      "source": [
        "# Load the required libraries\n",
        "import pandas as pd\n",
        "import numpy as np\n",
        "import ollama\n",
        "import time\n",
        "from IPython.display import display, Markdown, clear_output"
      ]
    },
    {
      "cell_type": "markdown",
      "metadata": {},
      "source": [
        "## Functions to Chat with the llama3.2:1b LLM"
      ]
    },
    {
      "cell_type": "code",
      "execution_count": 2,
      "metadata": {},
      "outputs": [],
      "source": [
        "# Initialize chat history\n",
        "chat_history = []\n",
        "\n",
        "# Format chat history\n",
        "def format_chat_history(history):\n",
        "    formatted = \"\"\n",
        "    for message in history:\n",
        "        role = message['role']\n",
        "        content = message['content']\n",
        "        formatted += f\"**{role.capitalize()}**: {content}\\n\\n\"\n",
        "    return formatted\n",
        "\n",
        "# Chat function with streaming and markdown output\n",
        "def chat(user_input):\n",
        "    global chat_history\n",
        "\n",
        "    # Add user message\n",
        "    chat_history.append({'role': 'user', 'content': user_input})\n",
        "\n",
        "    # Prepare message to send (Ollama supports streaming responses)\n",
        "    response_stream = ollama.chat(\n",
        "        model='llama3.2:1b',\n",
        "        messages=chat_history,\n",
        "        stream=True  # <-- enables streaming\n",
        "    )\n",
        "\n",
        "    # Streaming output capture\n",
        "    streamed_response = \"\"\n",
        "    display_handle = display(Markdown(\"\"), display_id=True)\n",
        "\n",
        "    for chunk in response_stream:\n",
        "        token = chunk.get(\"message\", {}).get(\"content\", \"\")\n",
        "        streamed_response += token\n",
        "        display_handle.update(Markdown(f\"**Assistant**: {streamed_response}\"))\n",
        "\n",
        "        # Optional: Add a slight delay for smoother effect\n",
        "        time.sleep(0.01)\n",
        "\n",
        "    # Add the final assistant response to history\n",
        "    chat_history.append({'role': 'assistant', 'content': streamed_response})\n",
        "\n",
        "    return streamed_response"
      ]
    },
    {
      "cell_type": "code",
      "execution_count": 3,
      "metadata": {},
      "outputs": [],
      "source": [
        "# This is the function we will use to show a dataframe to the LLM\n",
        "# and then ask chat with the LLM about the data.\n",
        "def chat_with_dataframe(df, question, max_rows=500):\n",
        "    table_markdown = df.head(max_rows).to_markdown(index=False)\n",
        "    message = f\"\"\"\n",
        "Here is a table of data:\n",
        "\n",
        "{table_markdown}\n",
        "\n",
        "{question}\n",
        "\"\"\"\n",
        "    return chat(message)\n"
      ]
    },
    {
      "cell_type": "markdown",
      "metadata": {},
      "source": [
        "## Synthetic Dataset"
      ]
    },
    {
      "cell_type": "code",
      "execution_count": 4,
      "metadata": {},
      "outputs": [
        {
          "name": "stdout",
          "output_type": "stream",
          "text": [
            "                   DATE                               PATIENT  \\\n",
            "0  2016-04-10T09:04:48Z  30a6452c-4297-a1ac-977a-6a23237c7b46   \n",
            "1  2016-04-10T09:04:48Z  30a6452c-4297-a1ac-977a-6a23237c7b46   \n",
            "\n",
            "                              ENCOUNTER     CATEGORY     CODE  \\\n",
            "0  0b03e41b-06a6-66fa-b972-acc5a83b134a  vital-signs   8302-2   \n",
            "1  0b03e41b-06a6-66fa-b972-acc5a83b134a  vital-signs  72514-3   \n",
            "\n",
            "                                         DESCRIPTION  VALUE    UNITS     TYPE  \n",
            "0                                        Body Height  176.1       cm  numeric  \n",
            "1  Pain severity - 0-10 verbal numeric rating [Sc...    3.0  {score}  numeric  \n"
          ]
        }
      ],
      "source": [
        "# Using the Synthea observations.csv dataset \n",
        "# https://synthea.mitre.org/downloads: 7 MB of data with 100 patients\n",
        "synthea = pd.read_csv('./synthea_observations.csv')\n",
        "print(synthea.head(2))"
      ]
    },
    {
      "cell_type": "markdown",
      "metadata": {},
      "source": [
        "## Medical Notes Simplification"
      ]
    },
    {
      "cell_type": "code",
      "execution_count": 80,
      "metadata": {},
      "outputs": [
        {
          "data": {
            "text/markdown": [
              "**Assistant**: This is a synthetic dataset generated using Python and several libraries to simulate data from various medical fields. Here's a simplified summary of what it might mean:\n",
              "\n",
              "**Overview**: This dataset contains information about patients who received treatment or care for a variety of conditions, including vital signs (e.g., blood pressure, oxygen levels), pain severity, and other symptoms.\n",
              "\n",
              "**Breakdown**:\n",
              "\n",
              "* **Patient Information**: Each entry includes basic demographic data (e.g., name, age) as well as some relevant medical history.\n",
              "* **Symptoms**: There are various columns that track the patient's reported symptoms, including:\n",
              "\t+ Pain Severity: A numerical rating from 0-10 on a verbal scale. This can be thought of as a severity or level of pain experienced by the patient.\n",
              "\t+ Vital Signs: Blood pressure, oxygen levels, temperature (not included in this dataset), and possibly other vital signs.\n",
              "* **Treatment**: This includes information about any treatments or interventions the patients received, such as medication, therapy, or procedures.\n",
              "\n",
              "**Notes on Data Interpretation**:\n",
              "\n",
              "* The symptoms and pain severity data are likely to be subjective and may not always correlate with a specific diagnosis. This is because people can experience pain in different ways and report different levels of distress.\n",
              "* The treatment information suggests that the healthcare providers were trying to manage various conditions, but their diagnoses or treatments might not have been directly related to the symptoms reported by the patients.\n",
              "\n",
              "**What the Data Might Mean for Clinical Practice**:\n",
              "\n",
              "* The dataset could be used to train machine learning models to predict patient outcomes based on symptom severity and treatment.\n",
              "* It might also provide insights into common pain patterns and vital signs in different populations or conditions.\n",
              "\n",
              "Please note that this is a highly stylized representation of data, and actual medical datasets are much more complex and nuanced."
            ],
            "text/plain": [
              "<IPython.core.display.Markdown object>"
            ]
          },
          "metadata": {},
          "output_type": "display_data"
        },
        {
          "data": {
            "text/plain": [
              "\"This is a synthetic dataset generated using Python and several libraries to simulate data from various medical fields. Here's a simplified summary of what it might mean:\\n\\n**Overview**: This dataset contains information about patients who received treatment or care for a variety of conditions, including vital signs (e.g., blood pressure, oxygen levels), pain severity, and other symptoms.\\n\\n**Breakdown**:\\n\\n* **Patient Information**: Each entry includes basic demographic data (e.g., name, age) as well as some relevant medical history.\\n* **Symptoms**: There are various columns that track the patient's reported symptoms, including:\\n\\t+ Pain Severity: A numerical rating from 0-10 on a verbal scale. This can be thought of as a severity or level of pain experienced by the patient.\\n\\t+ Vital Signs: Blood pressure, oxygen levels, temperature (not included in this dataset), and possibly other vital signs.\\n* **Treatment**: This includes information about any treatments or interventions the patients received, such as medication, therapy, or procedures.\\n\\n**Notes on Data Interpretation**:\\n\\n* The symptoms and pain severity data are likely to be subjective and may not always correlate with a specific diagnosis. This is because people can experience pain in different ways and report different levels of distress.\\n* The treatment information suggests that the healthcare providers were trying to manage various conditions, but their diagnoses or treatments might not have been directly related to the symptoms reported by the patients.\\n\\n**What the Data Might Mean for Clinical Practice**:\\n\\n* The dataset could be used to train machine learning models to predict patient outcomes based on symptom severity and treatment.\\n* It might also provide insights into common pain patterns and vital signs in different populations or conditions.\\n\\nPlease note that this is a highly stylized representation of data, and actual medical datasets are much more complex and nuanced.\""
            ]
          },
          "execution_count": 80,
          "metadata": {},
          "output_type": "execute_result"
        }
      ],
      "source": [
        "chat_with_dataframe(synthea, \"In a simple way that a layperson can understand, can you please summarize the key information in this synthetically generated dataset?\")"
      ]
    },
    {
      "cell_type": "code",
      "execution_count": 96,
      "metadata": {},
      "outputs": [
        {
          "data": {
            "text/markdown": [
              "**Assistant**: Based on the provided dataset, I'll walk you through a step-by-step analysis to determine the health status of the first patient.\n",
              "\n",
              "**Patient ID:** 22018eec-bde8-c567-abe0-cc2f6d4e1b8b\n",
              "**Name:** 37c177ea-4398-fb7a-29fa-70eb3d673876 (alphanumeric expression with \"37\" in the first and last positions, \"c\" in the middle)\n",
              "\n",
              "To analyze the health status of this patient, we'll examine the various columns that contain relevant information.\n",
              "\n",
              "**Assumptions:**\n",
              "\n",
              "* The dataset is a medical observation or survey.\n",
              "* We will focus on identifying the presence of specific health conditions or symptoms.\n",
              "* For simplicity, we'll assume that \"vital signs\" refer to common medical indicators such as blood pressure, heart rate, temperature, and oxygen saturation (SpO2).\n",
              "\n",
              "**Analysis:**\n",
              "\n",
              "1. **Vital Signs:** The patient's vital signs are reported in column \"Patient ID\": 22018eec-bde8-c567-abe0-cc2f6d4e1b8b.\n",
              "\t* SpO2: 92% (normal range: 94-100%)\n",
              "\t* Heart Rate: 80 beats per minute\n",
              "\t* Blood Pressure: 120/70 mmHg (systolic/diastolic)\n",
              "2. **Symptoms:** The patient's symptoms are not explicitly stated in the dataset, but we can infer them from the absence of certain columns or values.\n",
              "3. **Medical History:** We cannot determine the patient's medical history as there is no information provided about previous diagnoses, medications, or treatments.\n",
              "\n",
              "**Health Status:**\n",
              "\n",
              "Based on the analysis above, the health status of the first patient is:\n",
              "\n",
              "* Vital signs within normal limits (SpO2 = 92%, heart rate = 80 beats per minute, blood pressure = 120/70 mmHg).\n",
              "* No reported symptoms.\n",
              "* Available medical history not relevant to current condition.\n",
              "\n",
              "**Conclusion:**\n",
              "\n",
              "The patient appears to be in good health, with no indication of acute or chronic illnesses. However, without further information about their medical history and any potential symptoms, it is impossible to conclude the exact nature of their health status.\n",
              "\n",
              "Please let me know if you have any questions or need further clarification!"
            ],
            "text/plain": [
              "<IPython.core.display.Markdown object>"
            ]
          },
          "metadata": {},
          "output_type": "display_data"
        },
        {
          "data": {
            "text/plain": [
              "'Based on the provided dataset, I\\'ll walk you through a step-by-step analysis to determine the health status of the first patient.\\n\\n**Patient ID:** 22018eec-bde8-c567-abe0-cc2f6d4e1b8b\\n**Name:** 37c177ea-4398-fb7a-29fa-70eb3d673876 (alphanumeric expression with \"37\" in the first and last positions, \"c\" in the middle)\\n\\nTo analyze the health status of this patient, we\\'ll examine the various columns that contain relevant information.\\n\\n**Assumptions:**\\n\\n* The dataset is a medical observation or survey.\\n* We will focus on identifying the presence of specific health conditions or symptoms.\\n* For simplicity, we\\'ll assume that \"vital signs\" refer to common medical indicators such as blood pressure, heart rate, temperature, and oxygen saturation (SpO2).\\n\\n**Analysis:**\\n\\n1. **Vital Signs:** The patient\\'s vital signs are reported in column \"Patient ID\": 22018eec-bde8-c567-abe0-cc2f6d4e1b8b.\\n\\t* SpO2: 92% (normal range: 94-100%)\\n\\t* Heart Rate: 80 beats per minute\\n\\t* Blood Pressure: 120/70 mmHg (systolic/diastolic)\\n2. **Symptoms:** The patient\\'s symptoms are not explicitly stated in the dataset, but we can infer them from the absence of certain columns or values.\\n3. **Medical History:** We cannot determine the patient\\'s medical history as there is no information provided about previous diagnoses, medications, or treatments.\\n\\n**Health Status:**\\n\\nBased on the analysis above, the health status of the first patient is:\\n\\n* Vital signs within normal limits (SpO2 = 92%, heart rate = 80 beats per minute, blood pressure = 120/70 mmHg).\\n* No reported symptoms.\\n* Available medical history not relevant to current condition.\\n\\n**Conclusion:**\\n\\nThe patient appears to be in good health, with no indication of acute or chronic illnesses. However, without further information about their medical history and any potential symptoms, it is impossible to conclude the exact nature of their health status.\\n\\nPlease let me know if you have any questions or need further clarification!'"
            ]
          },
          "execution_count": 96,
          "metadata": {},
          "output_type": "execute_result"
        }
      ],
      "source": [
        "chat_with_dataframe(synthea, \"In a simple and yet comprehensive way, can you explain the health status of the first patient that is listed in this dataset? Imagine that this individual wants to know the complete results of their medical observations. Notice that the patients are named with alphanumeric expressions and are listed in the PATIENT column.\")"
      ]
    },
    {
      "cell_type": "code",
      "execution_count": 5,
      "metadata": {},
      "outputs": [
        {
          "data": {
            "text/markdown": [
              "**Assistant**: To determine the health status of the second patient, let's analyze the provided data.\n",
              "\n",
              "The second patient has a unique identifier: `37c177ea-4398-fb7a-29fa-70eb3d673876`.\n",
              "\n",
              "Looking at their medical observations:\n",
              "\n",
              "**Vital Signs (VITAL-SIGN-1)**\n",
              "\n",
              "* Blood Pressure: 125 mmHg\n",
              "* Pulse: 90 beats per minute\n",
              "* Respiratory Rate: 14 breaths per minute\n",
              "* Oxygen Saturation: 98% on room air\n",
              "\n",
              "This suggests that the patient is experiencing mild hypertension, slightly elevated respiratory rate, and adequate oxygen saturation.\n",
              "\n",
              "**Symptoms (SYMP-1)**\n",
              "\n",
              "* Headache\n",
              "* Fatigue\n",
              "* Nausea\n",
              "\n",
              "These symptoms indicate that the patient is experiencing a moderate level of discomfort or pain. There's no mention of significant weight loss, fever, or other acute conditions.\n",
              "\n",
              "**Lab Results (LAB-1)**\n",
              "\n",
              "There are no specific lab results mentioned in this dataset.\n",
              "\n",
              "**Mental Status (MST-1)**\n",
              "\n",
              "* Mood: Concerned\n",
              "* Sleep Quality: Fair\n",
              "* Cognitive Function: Average\n",
              "* Emotional Response: Apprehensive\n",
              "\n",
              "This suggests that the patient is feeling anxious or concerned, with fair sleep quality and an average level of cognitive function. Their emotional response indicates a sense of apprehension.\n",
              "\n",
              "Considering these observations, it appears that the second patient has mild to moderate hypertension, possibly related to headaches or fatigue, but no other significant symptoms are evident. The overall health status seems to be relatively stable, with some concerning aspects (headache and nausea) being present.\n",
              "\n",
              "Please note that without more detailed information about this patient's medical history, physical examination results, or specific diagnostic tests, it's impossible to provide a definitive diagnosis or prognosis. This analysis is based on limited observations provided in the dataset."
            ],
            "text/plain": [
              "<IPython.core.display.Markdown object>"
            ]
          },
          "metadata": {},
          "output_type": "display_data"
        },
        {
          "data": {
            "text/plain": [
              "\"To determine the health status of the second patient, let's analyze the provided data.\\n\\nThe second patient has a unique identifier: `37c177ea-4398-fb7a-29fa-70eb3d673876`.\\n\\nLooking at their medical observations:\\n\\n**Vital Signs (VITAL-SIGN-1)**\\n\\n* Blood Pressure: 125 mmHg\\n* Pulse: 90 beats per minute\\n* Respiratory Rate: 14 breaths per minute\\n* Oxygen Saturation: 98% on room air\\n\\nThis suggests that the patient is experiencing mild hypertension, slightly elevated respiratory rate, and adequate oxygen saturation.\\n\\n**Symptoms (SYMP-1)**\\n\\n* Headache\\n* Fatigue\\n* Nausea\\n\\nThese symptoms indicate that the patient is experiencing a moderate level of discomfort or pain. There's no mention of significant weight loss, fever, or other acute conditions.\\n\\n**Lab Results (LAB-1)**\\n\\nThere are no specific lab results mentioned in this dataset.\\n\\n**Mental Status (MST-1)**\\n\\n* Mood: Concerned\\n* Sleep Quality: Fair\\n* Cognitive Function: Average\\n* Emotional Response: Apprehensive\\n\\nThis suggests that the patient is feeling anxious or concerned, with fair sleep quality and an average level of cognitive function. Their emotional response indicates a sense of apprehension.\\n\\nConsidering these observations, it appears that the second patient has mild to moderate hypertension, possibly related to headaches or fatigue, but no other significant symptoms are evident. The overall health status seems to be relatively stable, with some concerning aspects (headache and nausea) being present.\\n\\nPlease note that without more detailed information about this patient's medical history, physical examination results, or specific diagnostic tests, it's impossible to provide a definitive diagnosis or prognosis. This analysis is based on limited observations provided in the dataset.\""
            ]
          },
          "execution_count": 5,
          "metadata": {},
          "output_type": "execute_result"
        }
      ],
      "source": [
        "chat_with_dataframe(synthea, \"In a simple and yet comprehensive way, can you explain the health status of the second patient that is listed in this dataset? Imagine that this individual wants to know the complete results of their medical observations. Notice that the patients are named with alphanumeric expressions and are listed in the PATIENT column. Again, this is for the second patient.\")"
      ]
    },
    {
      "cell_type": "code",
      "execution_count": 6,
      "metadata": {},
      "outputs": [
        {
          "data": {
            "text/markdown": [
              "**Assistant**: The patient's name is \"37c177ea-4398-fb7a-29fa-70eb3d673876\". Here's a breakdown of their medical status as per the provided dataset:\n",
              "\n",
              "**Patient Information:**\n",
              "Name: 37c177ea-4398-fb7a-29fa-70eb3d673876\n",
              "Type of Patient: Vital Sign\n",
              "Age: Not explicitly stated, but can be inferred from the presence of \"vital-signs\" and \"vital-signs vital-signs\".\n",
              "\n",
              "**Medical Observations:**\n",
              "\n",
              "* **Patient's Status:** Overall health status is **UNHEALTHY (72514-3)**.\n",
              "* **Pain Severity:** The patient reports a pain severity rating of 0-10, which falls within the normal range. This indicates that they are experiencing no pain or mild discomfort.\n",
              "\n",
              "**Notable Observations:**\n",
              "\n",
              "* No other vital signs were reported for this patient. It is likely that all relevant data was collected during their medical observation.\n",
              "* The presence of \"vital-signs\" and \"vital-signs vital-signs\" in the PATIENT column suggests that a comprehensive physical examination may have been performed, but specific details about their findings are not provided.\n",
              "\n",
              "Overall, this patient appears to be healthy and is undergoing routine monitoring as part of their medical care."
            ],
            "text/plain": [
              "<IPython.core.display.Markdown object>"
            ]
          },
          "metadata": {},
          "output_type": "display_data"
        },
        {
          "data": {
            "text/plain": [
              "'The patient\\'s name is \"37c177ea-4398-fb7a-29fa-70eb3d673876\". Here\\'s a breakdown of their medical status as per the provided dataset:\\n\\n**Patient Information:**\\nName: 37c177ea-4398-fb7a-29fa-70eb3d673876\\nType of Patient: Vital Sign\\nAge: Not explicitly stated, but can be inferred from the presence of \"vital-signs\" and \"vital-signs vital-signs\".\\n\\n**Medical Observations:**\\n\\n* **Patient\\'s Status:** Overall health status is **UNHEALTHY (72514-3)**.\\n* **Pain Severity:** The patient reports a pain severity rating of 0-10, which falls within the normal range. This indicates that they are experiencing no pain or mild discomfort.\\n\\n**Notable Observations:**\\n\\n* No other vital signs were reported for this patient. It is likely that all relevant data was collected during their medical observation.\\n* The presence of \"vital-signs\" and \"vital-signs vital-signs\" in the PATIENT column suggests that a comprehensive physical examination may have been performed, but specific details about their findings are not provided.\\n\\nOverall, this patient appears to be healthy and is undergoing routine monitoring as part of their medical care.'"
            ]
          },
          "execution_count": 6,
          "metadata": {},
          "output_type": "execute_result"
        }
      ],
      "source": [
        "chat_with_dataframe(synthea, \"In a simple and yet comprehensive way, can you explain the health status of the third patient that is listed in this dataset? Imagine that this individual wants to know the complete results of their medical observations. Notice that the patients are named with alphanumeric expressions and are listed in the PATIENT column. Again, this is for the third patient.\")"
      ]
    },
    {
      "cell_type": "markdown",
      "metadata": {},
      "source": [
        "### Thoughtful Evaluation of Medical Notes Simplification"
      ]
    },
    {
      "cell_type": "markdown",
      "metadata": {},
      "source": [
        "1. For this part, I am trying to accomplish what is required under point 4 under the instructions, namely \"Medical notes simplification for different patient groups\".\n",
        "1. Also, the LLM criterion rubric calls for providing \"thoughtful evaluation and thoughts about improvement\".\n",
        "    - The \"LLM Tutorial Thoughts for Improvement\" are provided at the end of this document.\n",
        "    - Here, I will attempt to provide \"thoughtful evaluation\" about the Medical Notes Simplification.\n",
        "1. At first, I wanted a simple summary of the entire dataset.\n",
        "    - This is seen in the first prompt directly under the \"Medical Notes Simplification\" heading.\n",
        "    - However, after seeing the outcome, I realized that we should be more granular and focus on the patients, one at a time.\n",
        "1. So I asked if a summary of the first three patients can be made, one patient at a time.\n",
        "    - For the first two patients, their medical notes were summarized in a comprehensive way.\n",
        "    - For the third patient, the summary was brief.\n",
        "    - It is interesting that there was a variety in the ways that the LMM responded to essentially the same prompt.\n",
        "    - While the difference in the prompts were limited to \"first\", \"second\" and \"third\" patients, the output followed a different structure each time.\n",
        "1. Overall, I think that there is much promise in using LLMs to simplify medical notes.\n",
        "    - As mentioned, the \"LLM Tutorial Thoughts for Improvement\" are provided at the end of this document.\n",
        "    - Assuming the \"LLM Tutorial Thoughts for Improvement\" are implemented, I can see that LLMs can really do good work in helping patients understand observations made about their medical situation.\n"
      ]
    },
    {
      "cell_type": "markdown",
      "metadata": {},
      "source": [
        "## Reasoning Method: Zero-Shot learning"
      ]
    },
    {
      "cell_type": "code",
      "execution_count": 81,
      "metadata": {},
      "outputs": [
        {
          "data": {
            "text/markdown": [
              "**Assistant**: Based on the provided synthetic electronic health records (EHR) dataset, here are some common characteristics of individuals with good cardiovascular health:\n",
              "\n",
              "1. **Age**: Individuals in their 50s and 60s, indicating a likely established cardiovascular risk factor profile.\n",
              "2. **Body Mass Index (BMI)**: Typically between 30-40 kg/m^2, which is considered overweight or obese for men and normal weight to slightly below average height for women.\n",
              "3. **Systolic Blood Pressure**: Below 120 mmHg, indicating normal blood pressure.\n",
              "4. **Diastolic Blood Pressure**: Below 80 mmHg, indicating normal diastolic blood pressure.\n",
              "5. **Cholesterol Levels**:\n",
              "\t* Triglycerides: Lower than 150 mg/dL (indicative of good lipid profile).\n",
              "\t* HDL Cholesterol: Higher than 40 mg/dL (indicative of good cholesterol levels).\n",
              "6. **Blood Glucose**: Within the normal range (<130 mg/dL), which is indicative of good glucose regulation.\n",
              "7. **Smoking Status**: Non-smokers or ex-smokers, indicating a lower risk for cardiovascular disease.\n",
              "8. **Physical Activity Level**: Higher than 150 minutes/week moderate to vigorous physical activity, indicating regular exercise and potentially a healthier lifestyle.\n",
              "9. **Lifestyle Factors**:\n",
              "\t* High levels of education (above 12 years) with associated higher socioeconomic status.\n",
              "\t* Low stress levels, as indicated by high levels of emotional well-being and low levels of chronic disease symptoms.\n",
              "10. **Genetic Predisposition**: Individuals with a family history of cardiovascular disease or other genetic markers that increase risk.\n",
              "\n",
              "Please note that these characteristics are based on the synthetically generated dataset and not actual patient data from real individuals. Factors such as individual variability, lifestyle changes over time, and access to healthcare services can influence the accuracy of these characteristics."
            ],
            "text/plain": [
              "<IPython.core.display.Markdown object>"
            ]
          },
          "metadata": {},
          "output_type": "display_data"
        },
        {
          "data": {
            "text/plain": [
              "'Based on the provided synthetic electronic health records (EHR) dataset, here are some common characteristics of individuals with good cardiovascular health:\\n\\n1. **Age**: Individuals in their 50s and 60s, indicating a likely established cardiovascular risk factor profile.\\n2. **Body Mass Index (BMI)**: Typically between 30-40 kg/m^2, which is considered overweight or obese for men and normal weight to slightly below average height for women.\\n3. **Systolic Blood Pressure**: Below 120 mmHg, indicating normal blood pressure.\\n4. **Diastolic Blood Pressure**: Below 80 mmHg, indicating normal diastolic blood pressure.\\n5. **Cholesterol Levels**:\\n\\t* Triglycerides: Lower than 150 mg/dL (indicative of good lipid profile).\\n\\t* HDL Cholesterol: Higher than 40 mg/dL (indicative of good cholesterol levels).\\n6. **Blood Glucose**: Within the normal range (<130 mg/dL), which is indicative of good glucose regulation.\\n7. **Smoking Status**: Non-smokers or ex-smokers, indicating a lower risk for cardiovascular disease.\\n8. **Physical Activity Level**: Higher than 150 minutes/week moderate to vigorous physical activity, indicating regular exercise and potentially a healthier lifestyle.\\n9. **Lifestyle Factors**:\\n\\t* High levels of education (above 12 years) with associated higher socioeconomic status.\\n\\t* Low stress levels, as indicated by high levels of emotional well-being and low levels of chronic disease symptoms.\\n10. **Genetic Predisposition**: Individuals with a family history of cardiovascular disease or other genetic markers that increase risk.\\n\\nPlease note that these characteristics are based on the synthetically generated dataset and not actual patient data from real individuals. Factors such as individual variability, lifestyle changes over time, and access to healthcare services can influence the accuracy of these characteristics.'"
            ]
          },
          "execution_count": 81,
          "metadata": {},
          "output_type": "execute_result"
        }
      ],
      "source": [
        "chat_with_dataframe(synthea, \"Based on this synthetically generated electronic health records dataset, please list common characteristics of individuals with good cardiovascular health.\")"
      ]
    },
    {
      "cell_type": "markdown",
      "metadata": {},
      "source": [
        "## Reasoning Method: Chain of Thought (CoT)"
      ]
    },
    {
      "cell_type": "code",
      "execution_count": 82,
      "metadata": {},
      "outputs": [
        {
          "data": {
            "text/markdown": [
              "**Assistant**: To analyze the provided electronic health records (EHR) dataset and identify common characteristics of individuals with good cardiovascular health, I'll go through each step:\n",
              "\n",
              "**Step 1: Identify relevant columns**\n",
              "\n",
              "* We're given several columns related to cardiovascular health, including:\n",
              "\t+ `Vital-signs`: reported pain severity scores (0-10)\n",
              "\t+ `Vital-signs_vitality`: vital signs as a numerical rating\n",
              "\t+ `Score` (column for good cardiovascular health)\n",
              "\n",
              "**Step 2: Filter the dataset**\n",
              "\n",
              "We need to filter out individuals with poor cardiovascular health, such as those with low vital sign scores or high pain severity. We'll use the following criteria:\n",
              "\n",
              "* `Vital-signs`: score ≥ 5 (good) and pain severity ≤ 3 (poor)\n",
              "* `Score`:\n",
              "\t+ >=2\n",
              "\n",
              "This will give us a filtered dataset of individuals with good cardiovascular health.\n",
              "\n",
              "**Step 3: Group by relevant columns**\n",
              "\n",
              "We'll group the remaining data by `Vital-signs_vitality`, which seems to be a more comprehensive measure of cardiovascular health. We can then perform aggregate calculations, such as:\n",
              "\n",
              "* `mean` or `mode` of `Vital-signs_vitality`\n",
              "* `min` and `max` values for other relevant columns\n",
              "\n",
              "This will help us identify patterns in the data.\n",
              "\n",
              "**Step 4: Analyze distribution**\n",
              "\n",
              "We'll examine the distribution of each group to better understand their characteristics. This can include:\n",
              "\n",
              "* Histograms or density plots for `Vital-signs_vitality`\n",
              "* Box plots or histograms for pain severity\n",
              "* Scatter plots between other relevant columns\n",
              "\n",
              "This step will provide insight into how the groups are distributed and any notable patterns.\n",
              "\n",
              "**Step 5: Visualize results**\n",
              "\n",
              "To summarize our findings, we can create visualizations using Python libraries like Matplotlib or Seaborn. This can help us:\n",
              "\n",
              "* Create bar charts for `Vital-signs_vitality` to compare means across different groups\n",
              "* Plot pain severity scores against other columns (e.g., vital sign ratings) to identify correlations\n",
              "* Use scatter plots to examine relationships between certain variables\n",
              "\n",
              "By following these steps, we'll be able to identify common characteristics of individuals with good cardiovascular health in the provided EHR dataset.\n",
              "\n",
              "Please let me know when you're ready for me to proceed!"
            ],
            "text/plain": [
              "<IPython.core.display.Markdown object>"
            ]
          },
          "metadata": {},
          "output_type": "display_data"
        },
        {
          "data": {
            "text/plain": [
              "\"To analyze the provided electronic health records (EHR) dataset and identify common characteristics of individuals with good cardiovascular health, I'll go through each step:\\n\\n**Step 1: Identify relevant columns**\\n\\n* We're given several columns related to cardiovascular health, including:\\n\\t+ `Vital-signs`: reported pain severity scores (0-10)\\n\\t+ `Vital-signs_vitality`: vital signs as a numerical rating\\n\\t+ `Score` (column for good cardiovascular health)\\n\\n**Step 2: Filter the dataset**\\n\\nWe need to filter out individuals with poor cardiovascular health, such as those with low vital sign scores or high pain severity. We'll use the following criteria:\\n\\n* `Vital-signs`: score ≥ 5 (good) and pain severity ≤ 3 (poor)\\n* `Score`:\\n\\t+ >=2\\n\\nThis will give us a filtered dataset of individuals with good cardiovascular health.\\n\\n**Step 3: Group by relevant columns**\\n\\nWe'll group the remaining data by `Vital-signs_vitality`, which seems to be a more comprehensive measure of cardiovascular health. We can then perform aggregate calculations, such as:\\n\\n* `mean` or `mode` of `Vital-signs_vitality`\\n* `min` and `max` values for other relevant columns\\n\\nThis will help us identify patterns in the data.\\n\\n**Step 4: Analyze distribution**\\n\\nWe'll examine the distribution of each group to better understand their characteristics. This can include:\\n\\n* Histograms or density plots for `Vital-signs_vitality`\\n* Box plots or histograms for pain severity\\n* Scatter plots between other relevant columns\\n\\nThis step will provide insight into how the groups are distributed and any notable patterns.\\n\\n**Step 5: Visualize results**\\n\\nTo summarize our findings, we can create visualizations using Python libraries like Matplotlib or Seaborn. This can help us:\\n\\n* Create bar charts for `Vital-signs_vitality` to compare means across different groups\\n* Plot pain severity scores against other columns (e.g., vital sign ratings) to identify correlations\\n* Use scatter plots to examine relationships between certain variables\\n\\nBy following these steps, we'll be able to identify common characteristics of individuals with good cardiovascular health in the provided EHR dataset.\\n\\nPlease let me know when you're ready for me to proceed!\""
            ]
          },
          "execution_count": 82,
          "metadata": {},
          "output_type": "execute_result"
        }
      ],
      "source": [
        "chat_with_dataframe(synthea, \"Based on this synthetically generated electronic health records dataset, please list common characteristics of individuals with good cardiovascular health. Please do this in a step-by-step way, so I can follow along with your reasoning.\") "
      ]
    },
    {
      "cell_type": "markdown",
      "metadata": {},
      "source": [
        "## In-Context Learning (ICL): One-Shot learning"
      ]
    },
    {
      "cell_type": "code",
      "execution_count": 84,
      "metadata": {},
      "outputs": [
        {
          "data": {
            "text/markdown": [
              "**Assistant**: Based on the provided data, here are some common characteristics of individuals with good cardiovascular health:\n",
              "\n",
              "1. **Regular Exercise**: Individuals with good cardiovascular health tend to engage in regular physical activity, such as walking, running, cycling, or swimming, for at least 30 minutes per day.\n",
              "2. **High Socioeconomic Status**: Those from higher socioeconomic backgrounds tend to have better cardiovascular health, suggesting a healthier lifestyle and access to resources that promote healthy living.\n",
              "3. **Stable Family History**: Individuals with no history of heart disease or other cardiovascular conditions are more likely to have good cardiovascular health.\n",
              "4. **Age 40s-60s**: Cardiovascular diseases are most prevalent among older adults in this age range, indicating a strong association between aging and increased risk.\n",
              "5. **Low Body Mass Index (BMI)**: Those with a low BMI tend to have better cardiovascular health due to the lower body fat percentage that can contribute to inflammation and other cardiovascular risks.\n",
              "6. **High Physical Activity**: Individuals who engage in regular exercise and sports are more likely to have good cardiovascular health, as physical activity helps to strengthen heart muscles and improve blood flow.\n",
              "7. **Good Sleep Patterns**: Those who get adequate sleep (7-9 hours per night) tend to have better cardiovascular health, suggesting a strong association between sleep quality and cardiovascular well-being.\n",
              "8. **Low Stress Levels**: Individuals with lower stress levels are more likely to have good cardiovascular health, as chronic stress can contribute to inflammation and increased blood pressure.\n",
              "9. **Healthy Diet**: Those who follow a balanced diet rich in fruits, vegetables, whole grains, and lean proteins tend to have better cardiovascular health due to the presence of essential nutrients and antioxidants that help prevent cardiovascular disease.\n",
              "10. **No Smoking or Tobacco Use**: Individuals who do not smoke or use tobacco products are less likely to experience cardiovascular events, such as heart attacks and strokes.\n",
              "\n",
              "Please note that these characteristics may vary across different datasets and populations. This is just a general list of common characteristics associated with good cardiovascular health based on the provided electronic health records dataset."
            ],
            "text/plain": [
              "<IPython.core.display.Markdown object>"
            ]
          },
          "metadata": {},
          "output_type": "display_data"
        },
        {
          "data": {
            "text/plain": [
              "'Based on the provided data, here are some common characteristics of individuals with good cardiovascular health:\\n\\n1. **Regular Exercise**: Individuals with good cardiovascular health tend to engage in regular physical activity, such as walking, running, cycling, or swimming, for at least 30 minutes per day.\\n2. **High Socioeconomic Status**: Those from higher socioeconomic backgrounds tend to have better cardiovascular health, suggesting a healthier lifestyle and access to resources that promote healthy living.\\n3. **Stable Family History**: Individuals with no history of heart disease or other cardiovascular conditions are more likely to have good cardiovascular health.\\n4. **Age 40s-60s**: Cardiovascular diseases are most prevalent among older adults in this age range, indicating a strong association between aging and increased risk.\\n5. **Low Body Mass Index (BMI)**: Those with a low BMI tend to have better cardiovascular health due to the lower body fat percentage that can contribute to inflammation and other cardiovascular risks.\\n6. **High Physical Activity**: Individuals who engage in regular exercise and sports are more likely to have good cardiovascular health, as physical activity helps to strengthen heart muscles and improve blood flow.\\n7. **Good Sleep Patterns**: Those who get adequate sleep (7-9 hours per night) tend to have better cardiovascular health, suggesting a strong association between sleep quality and cardiovascular well-being.\\n8. **Low Stress Levels**: Individuals with lower stress levels are more likely to have good cardiovascular health, as chronic stress can contribute to inflammation and increased blood pressure.\\n9. **Healthy Diet**: Those who follow a balanced diet rich in fruits, vegetables, whole grains, and lean proteins tend to have better cardiovascular health due to the presence of essential nutrients and antioxidants that help prevent cardiovascular disease.\\n10. **No Smoking or Tobacco Use**: Individuals who do not smoke or use tobacco products are less likely to experience cardiovascular events, such as heart attacks and strokes.\\n\\nPlease note that these characteristics may vary across different datasets and populations. This is just a general list of common characteristics associated with good cardiovascular health based on the provided electronic health records dataset.'"
            ]
          },
          "execution_count": 84,
          "metadata": {},
          "output_type": "execute_result"
        }
      ],
      "source": [
        "chat_with_dataframe(synthea, \"Based on this synthetically generated electronic health records dataset, I can see that individuals who engage in regular exercise generally experience good cardiovascular health. Please list other common characteristics of individuals with good cardiovascular health.\") "
      ]
    },
    {
      "cell_type": "markdown",
      "metadata": {},
      "source": [
        "## In-Context Learning (ICL): Few-Shot Learning"
      ]
    },
    {
      "cell_type": "code",
      "execution_count": 85,
      "metadata": {},
      "outputs": [
        {
          "data": {
            "text/markdown": [
              "**Assistant**: Based on the provided data, here are some common characteristics of individuals with good cardiovascular health:\n",
              "\n",
              "1. **Regular Exercise**: Individuals who engage in regular physical activity, such as walking, running, cycling, or any other aerobic exercise, tend to have better cardiovascular health.\n",
              "2. **Good Sleep Patterns**: Individuals who get adequate sleep (7-9 hours for adults) and maintain a consistent sleep schedule are less likely to develop cardiovascular diseases.\n",
              "3. **Relatively Low Stress**: High levels of stress can contribute to the development of cardiovascular diseases. Individuals with lower levels of stress, such as those experiencing chronic relaxation or engaging in stress-reducing activities like meditation or yoga, tend to have better cardiovascular health.\n",
              "4. **Balanced Diet**: A well-balanced diet that includes a variety of fruits, vegetables, whole grains, and lean protein sources can help support heart health.\n",
              "5. **Healthy Weight**: Maintaining a healthy weight through regular physical activity and a balanced diet is essential for overall cardiovascular health.\n",
              "6. **Low Tobacco Use**: Individuals who avoid tobacco use tend to have better cardiovascular health due to reduced exposure to harmful chemicals in cigarette smoke.\n",
              "7. **Good Nutrition**: Adequate intake of omega-3 fatty acids, antioxidants, and other essential nutrients can help support heart health.\n",
              "\n",
              "Additionally, certain lifestyle factors that are often associated with good cardiovascular health include:\n",
              "\n",
              "* **Moderate Alcohol Consumption**: Limiting or avoiding excessive alcohol consumption is generally recommended for individuals with cardiovascular disease.\n",
              "* **Social Support Network**: Having a strong social network of supportive family and friends can contribute to better overall well-being and, potentially, cardiovascular health.\n",
              "\n",
              "It's essential to note that these factors are not exhaustive, and individual circumstances may vary. Regular monitoring by healthcare professionals and addressing any underlying conditions or risk factors is crucial for maintaining good cardiovascular health."
            ],
            "text/plain": [
              "<IPython.core.display.Markdown object>"
            ]
          },
          "metadata": {},
          "output_type": "display_data"
        },
        {
          "data": {
            "text/plain": [
              "\"Based on the provided data, here are some common characteristics of individuals with good cardiovascular health:\\n\\n1. **Regular Exercise**: Individuals who engage in regular physical activity, such as walking, running, cycling, or any other aerobic exercise, tend to have better cardiovascular health.\\n2. **Good Sleep Patterns**: Individuals who get adequate sleep (7-9 hours for adults) and maintain a consistent sleep schedule are less likely to develop cardiovascular diseases.\\n3. **Relatively Low Stress**: High levels of stress can contribute to the development of cardiovascular diseases. Individuals with lower levels of stress, such as those experiencing chronic relaxation or engaging in stress-reducing activities like meditation or yoga, tend to have better cardiovascular health.\\n4. **Balanced Diet**: A well-balanced diet that includes a variety of fruits, vegetables, whole grains, and lean protein sources can help support heart health.\\n5. **Healthy Weight**: Maintaining a healthy weight through regular physical activity and a balanced diet is essential for overall cardiovascular health.\\n6. **Low Tobacco Use**: Individuals who avoid tobacco use tend to have better cardiovascular health due to reduced exposure to harmful chemicals in cigarette smoke.\\n7. **Good Nutrition**: Adequate intake of omega-3 fatty acids, antioxidants, and other essential nutrients can help support heart health.\\n\\nAdditionally, certain lifestyle factors that are often associated with good cardiovascular health include:\\n\\n* **Moderate Alcohol Consumption**: Limiting or avoiding excessive alcohol consumption is generally recommended for individuals with cardiovascular disease.\\n* **Social Support Network**: Having a strong social network of supportive family and friends can contribute to better overall well-being and, potentially, cardiovascular health.\\n\\nIt's essential to note that these factors are not exhaustive, and individual circumstances may vary. Regular monitoring by healthcare professionals and addressing any underlying conditions or risk factors is crucial for maintaining good cardiovascular health.\""
            ]
          },
          "execution_count": 85,
          "metadata": {},
          "output_type": "execute_result"
        }
      ],
      "source": [
        "chat_with_dataframe(synthea, \"Based on this synthetically generated electronic health records dataset, I can see that individuals who engage in regular exercise, have good sleep patterns and have relatively low stress in their lives, generally experience good cardiovascular health. Please list other common characteristics of individuals with good cardiovascular health.\") "
      ]
    },
    {
      "cell_type": "markdown",
      "metadata": {},
      "source": [
        "## Tree of Thoughts (ToT)"
      ]
    },
    {
      "cell_type": "code",
      "execution_count": 86,
      "metadata": {},
      "outputs": [
        {
          "data": {
            "text/markdown": [
              "**Assistant**: I cannot provide medical advice. However, I can give you a general overview of five potential plans that an individual may consider to improve their cardiovascular health based on the electronic health record (EHR) data provided.\r\n",
              "\r\n",
              "1. **Cardiovascular Wellness Plan**: This plan focuses on lifestyle modifications to reduce the risk of cardiovascular disease. Some key components include:\r\n",
              "\t* Regular physical activity, such as walking or jogging for at least 30 minutes, three times a week.\r\n",
              "\t* A balanced diet with plenty of fruits, vegetables, whole grains, and lean protein sources.\r\n",
              "\t* Healthy sleep habits, aiming for 7-9 hours per night.\r\n",
              "\t* Stress reduction techniques, such as meditation or yoga, to manage stress levels.\r\n",
              "2. **Lifestyle Modification Plan**: This plan targets specific lifestyle changes to improve cardiovascular health. Some key components include:\r\n",
              "\t* Quitting smoking and avoiding secondhand smoke.\r\n",
              "\t* Reducing alcohol consumption to no more than one drink per day for men and two drinks per day for women.\r\n",
              "\t* Limiting sedentary activities, such as watching TV or playing video games, to less than two hours per day.\r\n",
              "\t* Getting regular check-ups with a healthcare provider to monitor blood pressure and cholesterol levels.\r\n",
              "3. **Medication Management Plan**: This plan focuses on optimizing medication regimens to reduce the risk of cardiovascular events. Some key components include:\r\n",
              "\t* Working with a healthcare provider to adjust medications, if necessary, to ensure they are effective and safe.\r\n",
              "\t* Monitoring kidney function and adjusting medication dosages accordingly.\r\n",
              "\t* Avoiding concurrent use of multiple medications that can increase the risk of cardiovascular events.\r\n",
              "4. **Dietary Modification Plan**: This plan targets specific dietary changes to improve cardiovascular health. Some key components include:\r\n",
              "\t* Increasing consumption of omega-3 fatty acids, found in fatty fish, nuts, and seeds.\r\n",
              "\t* Eating more plant-based foods, such as fruits, vegetables, and whole grains.\r\n",
              "\t* Limiting intake of saturated and trans fats, added sugars, and sodium.\r\n",
              "\t* Incorporating healthy fats, such as avocado and olive oil, into meals.\r\n",
              "5. **Sleep Hygiene Plan**: This plan focuses on improving sleep habits to reduce the risk of cardiovascular disease. Some key components include:\r\n",
              "\t* Establishing a consistent sleep schedule and bedtime routine.\r\n",
              "\t* Creating a relaxing sleep environment, free from distractions.\r\n",
              "\t* Avoiding caffeine, nicotine, and electronic screens before bedtime.\r\n",
              "\t* Getting morning sunlight exposure to regulate circadian rhythms.\r\n",
              "\r\n",
              "Please note that these plans are based on hypothetical data and may not be tailored to an individual's specific needs or health status. It is essential to consult with a healthcare provider before starting any new plan, especially if you have existing medical conditions or concerns."
            ],
            "text/plain": [
              "<IPython.core.display.Markdown object>"
            ]
          },
          "metadata": {},
          "output_type": "display_data"
        },
        {
          "data": {
            "text/plain": [
              "\"I cannot provide medical advice. However, I can give you a general overview of five potential plans that an individual may consider to improve their cardiovascular health based on the electronic health record (EHR) data provided.\\r\\n\\r\\n1. **Cardiovascular Wellness Plan**: This plan focuses on lifestyle modifications to reduce the risk of cardiovascular disease. Some key components include:\\r\\n\\t* Regular physical activity, such as walking or jogging for at least 30 minutes, three times a week.\\r\\n\\t* A balanced diet with plenty of fruits, vegetables, whole grains, and lean protein sources.\\r\\n\\t* Healthy sleep habits, aiming for 7-9 hours per night.\\r\\n\\t* Stress reduction techniques, such as meditation or yoga, to manage stress levels.\\r\\n2. **Lifestyle Modification Plan**: This plan targets specific lifestyle changes to improve cardiovascular health. Some key components include:\\r\\n\\t* Quitting smoking and avoiding secondhand smoke.\\r\\n\\t* Reducing alcohol consumption to no more than one drink per day for men and two drinks per day for women.\\r\\n\\t* Limiting sedentary activities, such as watching TV or playing video games, to less than two hours per day.\\r\\n\\t* Getting regular check-ups with a healthcare provider to monitor blood pressure and cholesterol levels.\\r\\n3. **Medication Management Plan**: This plan focuses on optimizing medication regimens to reduce the risk of cardiovascular events. Some key components include:\\r\\n\\t* Working with a healthcare provider to adjust medications, if necessary, to ensure they are effective and safe.\\r\\n\\t* Monitoring kidney function and adjusting medication dosages accordingly.\\r\\n\\t* Avoiding concurrent use of multiple medications that can increase the risk of cardiovascular events.\\r\\n4. **Dietary Modification Plan**: This plan targets specific dietary changes to improve cardiovascular health. Some key components include:\\r\\n\\t* Increasing consumption of omega-3 fatty acids, found in fatty fish, nuts, and seeds.\\r\\n\\t* Eating more plant-based foods, such as fruits, vegetables, and whole grains.\\r\\n\\t* Limiting intake of saturated and trans fats, added sugars, and sodium.\\r\\n\\t* Incorporating healthy fats, such as avocado and olive oil, into meals.\\r\\n5. **Sleep Hygiene Plan**: This plan focuses on improving sleep habits to reduce the risk of cardiovascular disease. Some key components include:\\r\\n\\t* Establishing a consistent sleep schedule and bedtime routine.\\r\\n\\t* Creating a relaxing sleep environment, free from distractions.\\r\\n\\t* Avoiding caffeine, nicotine, and electronic screens before bedtime.\\r\\n\\t* Getting morning sunlight exposure to regulate circadian rhythms.\\r\\n\\r\\nPlease note that these plans are based on hypothetical data and may not be tailored to an individual's specific needs or health status. It is essential to consult with a healthcare provider before starting any new plan, especially if you have existing medical conditions or concerns.\""
            ]
          },
          "execution_count": 86,
          "metadata": {},
          "output_type": "execute_result"
        }
      ],
      "source": [
        "chat_with_dataframe(synthea, \"Based on this synthetically generated electronic health records dataset, please generate 5 different plans that individuals can follow so as to improve their cardiovascular health.\") "
      ]
    },
    {
      "cell_type": "markdown",
      "metadata": {},
      "source": [
        "## LLM Disease Prediction (Downstream Task)"
      ]
    },
    {
      "cell_type": "code",
      "execution_count": 92,
      "metadata": {},
      "outputs": [
        {
          "data": {
            "text/markdown": [
              "**Assistant**: To predict the top 2 individuals who are the least likely to develop cardiovascular disease, we need to analyze the provided list of patients.\n",
              "\n",
              "**Patient Characteristics:**\n",
              "\n",
              "- **Name:** The patient's name is alphanumeric expression. To simplify analysis, let's assume they have a unique identifier (UID), which I'll assign as `PID`.\n",
              "- **Age:** Not explicitly mentioned.\n",
              "- **Sex:** Not specified.\n",
              "- **BMI:** Estimated based on height and weight in the PATIENT column.\n",
              "- **Smoking History:** No mention of smoking status or prevalence in the text.\n",
              "- **Cholesterol Levels:** Estimated based on the PATIENT column, specifically for LDL-C (bad cholesterol).\n",
              "- **Blood Pressure:** Estimated based on the PATIENT column, specifically for systolic blood pressure.\n",
              "\n",
              "**Cardiovascular Disease Risk Factors:**\n",
              "\n",
              "1. **High Blood Pressure**: Systolic BP > 130 mmHg or Diastolic BP ≥ 80 mmHg.\n",
              "2. **LDL-C (Bad Cholesterol) Levels**: ≥ 190 mg/dL, High-Risk Categories:\n",
              "\t* < 40 mg/dL: Very Low Risk\n",
              "\t* 40-59 mg/dL: Low Risk\n",
              "\t* ≥ 60 mg/dL: High Risk\n",
              "3. **Smoking History**: No mention of smoking status or prevalence.\n",
              "\n",
              "**Analysis:**\n",
              "\n",
              "From the provided list, I'll analyze the patients based on their characteristics and risk factors:\n",
              "\n",
              "1. **Patient 1:** Name is \"Alphanumeric Expression\". Age not specified. BMI is estimated as around 25 kg/m².\n",
              "\t* Cholesterol Levels: LDL-C ≥ 190 mg/dL (High Risk Category)\n",
              "2. **Patient 3:** Name is \"Vital-Signs\". No explicit characteristics mentioned.\n",
              "\n",
              "Given the provided information, Patient 1 has the highest risk factors for cardiovascular disease:\n",
              "\n",
              "- High BMI (25 kg/m²) increases risk of obesity-related conditions.\n",
              "- Elevated LDL-C levels (>190 mg/dL) increase the risk of heart disease and stroke.\n",
              "- The patient's age is not specified, but their name suggests an older adult.\n",
              "\n",
              "Patient 3 has high cholesterol levels, but I couldn't determine if it's within a High Risk Category for cardiovascular disease. However, since there are no other characteristics mentioned that could affect their risk, this patient might still be at low to moderate risk for cardiovascular disease.\n",
              "\n",
              "**Top 2 Predicted Individuals:**\n",
              "\n",
              "Based on the analysis:\n",
              "\n",
              "1. **Patient 1**: With high BMI, LDL-C levels (≥190 mg/dL), and age not specified, Patient 1 has the highest predicted likelihood of developing cardiovascular disease.\n",
              "2. **Patient 3**: High cholesterol levels without specifying their LDL-C level or other risk factors, this patient also has a moderate to high likelihood of cardiovascular disease.\n",
              "\n",
              "Please note that these predictions are based on the information provided in the text and may not reflect actual medical data or an individual's specific situation. A comprehensive medical evaluation would be required to accurately assess the patients' risks."
            ],
            "text/plain": [
              "<IPython.core.display.Markdown object>"
            ]
          },
          "metadata": {},
          "output_type": "display_data"
        },
        {
          "data": {
            "text/plain": [
              "'To predict the top 2 individuals who are the least likely to develop cardiovascular disease, we need to analyze the provided list of patients.\\n\\n**Patient Characteristics:**\\n\\n- **Name:** The patient\\'s name is alphanumeric expression. To simplify analysis, let\\'s assume they have a unique identifier (UID), which I\\'ll assign as `PID`.\\n- **Age:** Not explicitly mentioned.\\n- **Sex:** Not specified.\\n- **BMI:** Estimated based on height and weight in the PATIENT column.\\n- **Smoking History:** No mention of smoking status or prevalence in the text.\\n- **Cholesterol Levels:** Estimated based on the PATIENT column, specifically for LDL-C (bad cholesterol).\\n- **Blood Pressure:** Estimated based on the PATIENT column, specifically for systolic blood pressure.\\n\\n**Cardiovascular Disease Risk Factors:**\\n\\n1. **High Blood Pressure**: Systolic BP > 130 mmHg or Diastolic BP ≥ 80 mmHg.\\n2. **LDL-C (Bad Cholesterol) Levels**: ≥ 190 mg/dL, High-Risk Categories:\\n\\t* < 40 mg/dL: Very Low Risk\\n\\t* 40-59 mg/dL: Low Risk\\n\\t* ≥ 60 mg/dL: High Risk\\n3. **Smoking History**: No mention of smoking status or prevalence.\\n\\n**Analysis:**\\n\\nFrom the provided list, I\\'ll analyze the patients based on their characteristics and risk factors:\\n\\n1. **Patient 1:** Name is \"Alphanumeric Expression\". Age not specified. BMI is estimated as around 25 kg/m².\\n\\t* Cholesterol Levels: LDL-C ≥ 190 mg/dL (High Risk Category)\\n2. **Patient 3:** Name is \"Vital-Signs\". No explicit characteristics mentioned.\\n\\nGiven the provided information, Patient 1 has the highest risk factors for cardiovascular disease:\\n\\n- High BMI (25 kg/m²) increases risk of obesity-related conditions.\\n- Elevated LDL-C levels (>190 mg/dL) increase the risk of heart disease and stroke.\\n- The patient\\'s age is not specified, but their name suggests an older adult.\\n\\nPatient 3 has high cholesterol levels, but I couldn\\'t determine if it\\'s within a High Risk Category for cardiovascular disease. However, since there are no other characteristics mentioned that could affect their risk, this patient might still be at low to moderate risk for cardiovascular disease.\\n\\n**Top 2 Predicted Individuals:**\\n\\nBased on the analysis:\\n\\n1. **Patient 1**: With high BMI, LDL-C levels (≥190 mg/dL), and age not specified, Patient 1 has the highest predicted likelihood of developing cardiovascular disease.\\n2. **Patient 3**: High cholesterol levels without specifying their LDL-C level or other risk factors, this patient also has a moderate to high likelihood of cardiovascular disease.\\n\\nPlease note that these predictions are based on the information provided in the text and may not reflect actual medical data or an individual\\'s specific situation. A comprehensive medical evaluation would be required to accurately assess the patients\\' risks.'"
            ]
          },
          "execution_count": 92,
          "metadata": {},
          "output_type": "execute_result"
        }
      ],
      "source": [
        "chat_with_dataframe(synthea, \"Notice that the patients are named with alphanumeric expressions and are listed in the PATIENT column. Predict the top 2 individuals who are the least likely to develop cardiovascular disease, based on the listed characteristics of these patients.\") "
      ]
    },
    {
      "cell_type": "markdown",
      "metadata": {},
      "source": [
        "## LLM Classification (Downstream Task)"
      ]
    },
    {
      "cell_type": "code",
      "execution_count": 89,
      "metadata": {},
      "outputs": [
        {
          "data": {
            "text/markdown": [
              "**Assistant**: Based on the provided data, here are 5 ways that we can classify patients as likely or unlikely to develop cardiovascular disease:\n",
              "\n",
              "1. **Age**: Patients under 55 years old are less likely to have cardiovascular disease. For example, patient 100 has a vital sign value of 22018eec-bde8-c567-abe0-cc2f6d4e1b8b, which suggests they may be under the age of 55.\n",
              "\n",
              "Likely to develop: < 55\n",
              "Unlikely to develop: >= 55\n",
              "\n",
              "2. **Smoking Status**: Patients who smoke cigarettes are more likely to have cardiovascular disease. Patient 101 has a vital sign value of \"smoker\" in the PATIENT column, indicating that they are a smoker.\n",
              "\n",
              "Likely to develop: Yes, if smoking status is considered\n",
              "Unlikely to develop: No (if considering only current non-smokers)\n",
              "\n",
              "3. **Blood Pressure**: Patients with blood pressure values greater than 180/100 mmHg or less than 90/60 mmHg are more likely to have cardiovascular disease.\n",
              "\n",
              "Likely to develop: High blood pressure (> 180/100)\n",
              "Unlikely to develop: Low blood pressure (< 90/60)\n",
              "\n",
              "4. **Diabetes**: Patients with a vital sign value of > 180 for glucose in the blood are more likely to have cardiovascular disease.\n",
              "\n",
              "Likely to develop: Yes, if diabetes is considered\n",
              "Unlikely to develop: No (if only considering non-diabetic patients)\n",
              "\n",
              "5. **Family History**: Patients who have a family history of heart disease or stroke are more likely to develop cardiovascular disease themselves.\n",
              "\n",
              "Likely to develop: High-risk family history (> 1 first-degree relative with heart disease or stroke)\n",
              "Unlikely to develop: Low-risk family history (0-1 first-degree relatives with heart disease or stroke)\n",
              "\n",
              "Note that these classifications are based on the listed characteristics and may not be a definitive prediction of future risk. Further medical evaluation, imaging tests, and risk factor assessments would typically be required for an accurate assessment of cardiovascular disease risk."
            ],
            "text/plain": [
              "<IPython.core.display.Markdown object>"
            ]
          },
          "metadata": {},
          "output_type": "display_data"
        },
        {
          "data": {
            "text/plain": [
              "'Based on the provided data, here are 5 ways that we can classify patients as likely or unlikely to develop cardiovascular disease:\\n\\n1. **Age**: Patients under 55 years old are less likely to have cardiovascular disease. For example, patient 100 has a vital sign value of 22018eec-bde8-c567-abe0-cc2f6d4e1b8b, which suggests they may be under the age of 55.\\n\\nLikely to develop: < 55\\nUnlikely to develop: >= 55\\n\\n2. **Smoking Status**: Patients who smoke cigarettes are more likely to have cardiovascular disease. Patient 101 has a vital sign value of \"smoker\" in the PATIENT column, indicating that they are a smoker.\\n\\nLikely to develop: Yes, if smoking status is considered\\nUnlikely to develop: No (if considering only current non-smokers)\\n\\n3. **Blood Pressure**: Patients with blood pressure values greater than 180/100 mmHg or less than 90/60 mmHg are more likely to have cardiovascular disease.\\n\\nLikely to develop: High blood pressure (> 180/100)\\nUnlikely to develop: Low blood pressure (< 90/60)\\n\\n4. **Diabetes**: Patients with a vital sign value of > 180 for glucose in the blood are more likely to have cardiovascular disease.\\n\\nLikely to develop: Yes, if diabetes is considered\\nUnlikely to develop: No (if only considering non-diabetic patients)\\n\\n5. **Family History**: Patients who have a family history of heart disease or stroke are more likely to develop cardiovascular disease themselves.\\n\\nLikely to develop: High-risk family history (> 1 first-degree relative with heart disease or stroke)\\nUnlikely to develop: Low-risk family history (0-1 first-degree relatives with heart disease or stroke)\\n\\nNote that these classifications are based on the listed characteristics and may not be a definitive prediction of future risk. Further medical evaluation, imaging tests, and risk factor assessments would typically be required for an accurate assessment of cardiovascular disease risk.'"
            ]
          },
          "execution_count": 89,
          "metadata": {},
          "output_type": "execute_result"
        }
      ],
      "source": [
        "chat_with_dataframe(synthea, \"Notice that the patients are named with alphanumeric expressions and are listed in the PATIENT column. Based on the listed characteristics of these patients, identify 5 ways that we classify patients as to their likelihood in developing cardiovascular disease.\") "
      ]
    },
    {
      "cell_type": "markdown",
      "metadata": {},
      "source": [
        "## LLM Tutorial Thoughts for Improvement"
      ]
    },
    {
      "cell_type": "markdown",
      "metadata": {},
      "source": [
        "1. Use a better, more accurate model.\n",
        "    - I am using the llama3.2:1b LLM because my older, lower end laptop cannot handle larger, more accurate models.\n",
        "    - I am convinced that using better, more accurate models, will improve the accuracy of the results.\n",
        "1. Use a more comprehensive non-synthetic dataset.\n",
        "    - I am using a small and synthetic dataset. I cannot expect good results with this dataset.\n",
        "    - I am convinced that a large, real-life dataset will bring better results.\n",
        "    - The more comprehensive part can include variables that are especially relevant to cardiovascular health (e.g. blood pressure, lipid profiles, and lifestyle factors, for each listed patient).\n",
        "1. Continue to work on prompt engineering.\n",
        "    - I liked the output when I attempted to use chain of thought reasoning. I wish to explore this type of prompt engineering further.\n",
        "1. Input other types of data e.g. ECG images, biometric data.\n",
        "    - Again, what is currently used is synthetically generated electronic medical records, only in text form.\n",
        "1. Fact-check against what is published in medical journals.\n",
        "    - This way, the LLM can iteratively refine its understanding based on expert feedback.\n",
        "    - The disease classification and prediction accuracy can improve over time in this way."
      ]
    }
  ],
  "metadata": {
    "colab": {
      "provenance": []
    },
    "kernelspec": {
      "display_name": "deeplearning",
      "language": "python",
      "name": "python3"
    },
    "language_info": {
      "codemirror_mode": {
        "name": "ipython",
        "version": 3
      },
      "file_extension": ".py",
      "mimetype": "text/x-python",
      "name": "python",
      "nbconvert_exporter": "python",
      "pygments_lexer": "ipython3",
      "version": "3.11.9"
    }
  },
  "nbformat": 4,
  "nbformat_minor": 0
}
